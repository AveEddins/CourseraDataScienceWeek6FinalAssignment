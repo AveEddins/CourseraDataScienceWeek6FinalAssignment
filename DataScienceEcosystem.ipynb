{
 "cells": [
  {
   "cell_type": "markdown",
   "id": "09ef6a38",
   "metadata": {},
   "source": [
    "# Data Science Tools and Ecosystem"
   ]
  },
  {
   "cell_type": "markdown",
   "id": "75c6597b",
   "metadata": {},
   "source": [
    "## Author\n",
    "A. Eddins"
   ]
  },
  {
   "cell_type": "markdown",
   "id": "3b421e0e",
   "metadata": {},
   "source": [
    "In this notebook, Data Science Tools and Ecosystem are summarized."
   ]
  },
  {
   "cell_type": "markdown",
   "id": "6937bb63",
   "metadata": {},
   "source": [
    "**Objectives:**  \n",
    "    - List popular languages for Data Science  \n",
    "    - List commonly used libraries for Data Science  \n",
    "    - List common data science tools"
   ]
  },
  {
   "cell_type": "markdown",
   "id": "e9374b88",
   "metadata": {},
   "source": [
    "Some of the popular languages that Data Scientists use are:  \n",
    "    1. Python  \n",
    "    2. R  \n",
    "    3. SQL  "
   ]
  },
  {
   "cell_type": "markdown",
   "id": "667e5be9",
   "metadata": {},
   "source": [
    "Some of the commonly used libraries used by Data Scientists include:  \n",
    "1. Numpy  \n",
    "2. Matplotlib  \n",
    "3. TensorFlow  "
   ]
  },
  {
   "cell_type": "markdown",
   "id": "7677456c",
   "metadata": {},
   "source": [
    "| Data Science Tools |\n",
    "| ------------------ |\n",
    "| Spyder             |\n",
    "| RStudio            |\n",
    "| Jupyter            |"
   ]
  },
  {
   "cell_type": "markdown",
   "id": "ca250ee1",
   "metadata": {},
   "source": [
    "### Below are a few examples of evaluation arithmetic expressions in Python"
   ]
  },
  {
   "cell_type": "code",
   "execution_count": 5,
   "id": "fc280bb9",
   "metadata": {},
   "outputs": [
    {
     "data": {
      "text/plain": [
       "17"
      ]
     },
     "execution_count": 5,
     "metadata": {},
     "output_type": "execute_result"
    }
   ],
   "source": [
    "# This is a simple arithmetic expression to multiply then add integers\n",
    "(3*4)+5"
   ]
  },
  {
   "cell_type": "code",
   "execution_count": 6,
   "id": "3dbaf542",
   "metadata": {},
   "outputs": [
    {
     "name": "stdout",
     "output_type": "stream",
     "text": [
      "3.3333333333333335\n"
     ]
    }
   ],
   "source": [
    "# This will convert 200 minutes to hours by dividing by 60\n",
    "minutes = 200\n",
    "hours = 200/60\n",
    "print(hours)"
   ]
  }
 ],
 "metadata": {
  "kernelspec": {
   "display_name": "Python 3 (ipykernel)",
   "language": "python",
   "name": "python3"
  },
  "language_info": {
   "codemirror_mode": {
    "name": "ipython",
    "version": 3
   },
   "file_extension": ".py",
   "mimetype": "text/x-python",
   "name": "python",
   "nbconvert_exporter": "python",
   "pygments_lexer": "ipython3",
   "version": "3.11.5"
  }
 },
 "nbformat": 4,
 "nbformat_minor": 5
}
